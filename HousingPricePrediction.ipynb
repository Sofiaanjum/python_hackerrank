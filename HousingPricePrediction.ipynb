{
 "cells": [
  {
   "cell_type": "markdown",
   "id": "c3b4e7ed",
   "metadata": {},
   "source": [
    "import numpy as np\n",
    "from sklearn.linear_model import Lasso\n",
    "\n",
    "\n",
    "f, n = map(int, input().split())\n",
    "\n",
    "X_train = np.empty((n, f))\n",
    "y_train = np.empty(n)\n",
    "\n",
    "# Read the training data\n",
    "for i in range(n):\n",
    "    row = list(map(float, input().split()))\n",
    "    X_train[i] = row[:f]\n",
    "    y_train[i] = row[-1]\n",
    "\n",
    "t = int(input())\n",
    "\n",
    "X_test = np.empty((t, f))\n",
    "\n",
    "# Read the testing data\n",
    "for i in range(t):\n",
    "    X_test[i] = list(map(float, input().split()))\n",
    "    \n",
    "lasso_model = Lasso(alpha=0.02)\n",
    "lasso_model.fit(X_train, y_train)\n",
    "\n",
    "\n",
    "# Predict on the test data\n",
    "y_pred = lasso_model.predict(X_test)\n",
    "\n",
    "for val in y_pred:\n",
    "    print(\"{:.2f}\".format(val))"
   ]
  },
  {
   "cell_type": "markdown",
   "id": "adf5bd8a",
   "metadata": {},
   "source": [
    "import numpy as np\n",
    "\n",
    "F, H = map(int, input().split())\n",
    "x, y = np.empty((H, F + 1)), np.empty(H)\n",
    "\n",
    "for h in range(H):\n",
    "    fs = list(map(np.float32, input().split()))\n",
    "    x[h], y[h] = fs[:-1] + [1], fs[-1]\n",
    "\n",
    "w = np.linalg.inv(x.T @ x) @ x.T @ y\n",
    "    \n",
    "for t in range(int(input())):\n",
    "    print((np.array([[*map(np.float32, input().split()), 1]]) @ w)[0])"
   ]
  },
  {
   "cell_type": "code",
   "execution_count": 1,
   "id": "604b92e5",
   "metadata": {},
   "outputs": [],
   "source": [
    "# Mycode"
   ]
  },
  {
   "cell_type": "code",
   "execution_count": null,
   "id": "00ab873a",
   "metadata": {},
   "outputs": [],
   "source": [
    "# Enter your code here. Read input from STDIN. Print output to STDOUT\n",
    "\n",
    "#importing libraries\n",
    "import numpy as np\n",
    "from sklearn.linear_model import Lasso\n",
    "\n",
    "# populating the values of F and N\n",
    "\n",
    "F, N = map(int, input().split())\n",
    "x_train = np.empty((N,F))\n",
    "y_train = np.empty(N)\n",
    "\n",
    "# Reading the data from the given table\n",
    "for i in range(N):\n",
    "    row = list(map(float, input().split()))\n",
    "    x_train[i] = row[:F]\n",
    "    y_train[i] = row[-1]\n",
    "\n",
    "# populating the unknown house prices stored in T\n",
    "T = int(input())\n",
    "X_test = np.empty((T,F))\n",
    "\n",
    "# Reading the data for the unknown values\n",
    "for i in range(T):\n",
    "    X_test[i] = list(map(float, input().split()))\n",
    "\n",
    "# Training the model\n",
    "Lasso_Model = Lasso(alpha=0.02)\n",
    "Lasso_Model.fit(x_train, y_train)\n",
    "\n",
    "# Predicting on test data\n",
    "y_pred = Lasso_Model.predict(X_test)\n",
    "\n",
    "# Printing the results\n",
    "\n",
    "for val in y_pred:\n",
    "    print(\"{:.2f}\".format(val))"
   ]
  },
  {
   "cell_type": "code",
   "execution_count": null,
   "id": "ab7e42b8",
   "metadata": {},
   "outputs": [],
   "source": []
  }
 ],
 "metadata": {
  "kernelspec": {
   "display_name": "Python 3 (ipykernel)",
   "language": "python",
   "name": "python3"
  },
  "language_info": {
   "codemirror_mode": {
    "name": "ipython",
    "version": 3
   },
   "file_extension": ".py",
   "mimetype": "text/x-python",
   "name": "python",
   "nbconvert_exporter": "python",
   "pygments_lexer": "ipython3",
   "version": "3.9.13"
  }
 },
 "nbformat": 4,
 "nbformat_minor": 5
}
