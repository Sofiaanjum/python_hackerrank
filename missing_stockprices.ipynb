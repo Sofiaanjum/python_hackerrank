{
 "cells": [
  {
   "cell_type": "code",
   "execution_count": null,
   "id": "83bf4728",
   "metadata": {},
   "outputs": [],
   "source": [
    "import numpy as np\n",
    "from scipy import interpolate\n",
    "\n",
    "readings_count = int(input().strip())\n",
    "\n",
    "readings = []\n",
    "\n",
    "for _ in range(readings_count):\n",
    "    readings_item = input()\n",
    "    readings.append(readings_item)\n",
    "\n",
    "def calcMissing(readings):\n",
    "    x_known = []\n",
    "    x_unknown = []\n",
    "    prices = []\n",
    "    for i in range(len(readings)):\n",
    "        mod = readings[i].split(' ')\n",
    "        div = mod[-1].split(\"\\t\")\n",
    "        \n",
    "        if div[-1][0] == 'M':\n",
    "            x_unknown.append(i)\n",
    "        else:\n",
    "            x_known.append(i)\n",
    "            prices.append(float(div[-1]))\n",
    "    return [x_known, x_unknown, prices]\n",
    "        \n",
    "list = calcMissing(readings) \n",
    "\n",
    "pred_model = interpolate.UnivariateSpline(np.array(list[0]), np.array(list[2]), s=1)\n",
    "for i in list[1]:\n",
    "    print(pred_model(i))"
   ]
  }
 ],
 "metadata": {
  "kernelspec": {
   "display_name": "Python 3 (ipykernel)",
   "language": "python",
   "name": "python3"
  },
  "language_info": {
   "codemirror_mode": {
    "name": "ipython",
    "version": 3
   },
   "file_extension": ".py",
   "mimetype": "text/x-python",
   "name": "python",
   "nbconvert_exporter": "python",
   "pygments_lexer": "ipython3",
   "version": "3.9.13"
  }
 },
 "nbformat": 4,
 "nbformat_minor": 5
}
