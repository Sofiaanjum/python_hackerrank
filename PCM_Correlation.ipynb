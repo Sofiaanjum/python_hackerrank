{
 "cells": [
  {
   "cell_type": "code",
   "execution_count": null,
   "id": "bbacf0e7",
   "metadata": {},
   "outputs": [],
   "source": [
    "# My code:\n",
    "import math\n",
    "from math import sqrt\n",
    "\n",
    "x = int(input())\n",
    "scores = [list(map(lambda a: float(a), input().split('\\t'))) for _ in range(x)]\n",
    "\n",
    "m = list(map(lambda a: a[0], scores))\n",
    "p = list(map(lambda a: a[1], scores))\n",
    "c = list(map(lambda a: a[2], scores))\n",
    "              \n",
    "def correlation(X,Y,N):\n",
    "    num = (N*sum(map(lambda a,b: a*b, X, Y))) - (sum(X)*sum(Y))\n",
    "    deno = sqrt(N*sum(map(lambda a: a**2,X)) - (sum(X)**2)) * sqrt(N*sum(map(lambda a: a**2, Y)) - (sum(Y)**2))\n",
    "    return num/deno\n",
    "\n",
    "print(\"%.2f\"%(correlation(m,p,x)))\n",
    "print(\"%.2f\"%(correlation(p,c,x)))\n",
    "print(\"%.2f\"%(correlation(c,m,x)))"
   ]
  },
  {
   "cell_type": "code",
   "execution_count": null,
   "id": "53c2f793",
   "metadata": {},
   "outputs": [],
   "source": [
    "from math import sqrt\n",
    "x = int(input())\n",
    "scores = [list(map(lambda a : float(a), input().split('\\t'))) for _ in range(x)]\n",
    "m = list(map(lambda a : a[0], scores))\n",
    "p = list(map(lambda a : a[1], scores))\n",
    "c = list(map(lambda a : a[2], scores))\n",
    "\n",
    "def correlation(X, Y, N):\n",
    "    numerator = (N * sum(map(lambda a,b : a*b, X, Y))) - (sum(X)*sum(Y))\n",
    "    denominator = sqrt(N*sum(map(lambda a : a**2, X)) - (sum(X)**2)) * sqrt(N*sum(map(lambda a : a**2, Y)) - (sum(Y)**2))\n",
    "    return numerator/denominator\n",
    "\n",
    "print('%.2f'%(correlation(m,p,x)))\n",
    "print('%.2f'%(correlation(p,c,x)))\n",
    "print('%.2f'%(correlation(c,m,x)))"
   ]
  }
 ],
 "metadata": {
  "kernelspec": {
   "display_name": "Python 3 (ipykernel)",
   "language": "python",
   "name": "python3"
  },
  "language_info": {
   "codemirror_mode": {
    "name": "ipython",
    "version": 3
   },
   "file_extension": ".py",
   "mimetype": "text/x-python",
   "name": "python",
   "nbconvert_exporter": "python",
   "pygments_lexer": "ipython3",
   "version": "3.9.13"
  }
 },
 "nbformat": 4,
 "nbformat_minor": 5
}
