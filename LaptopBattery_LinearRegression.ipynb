{
 "cells": [
  {
   "cell_type": "code",
   "execution_count": null,
   "id": "94a86980",
   "metadata": {},
   "outputs": [],
   "source": [
    "import numpy as np\n",
    "from sklearn.linear_model import LinearRegression\n",
    "\n",
    "def predict_battery_duration(training_data, test_case):\n",
    "    X_train = np.array([charging_time for charging_time, _ in training_data]).reshape(-1, 1)\n",
    "    y_train = np.array([battery_duration for _, battery_duration in training_data])\n",
    "\n",
    "    # Train a linear regression model\n",
    "    model = RandomForestRegressor()\n",
    "    model.fit(X_train, y_train)\n",
    "\n",
    "    # Predict the battery duration for the test case\n",
    "    predicted_duration = model.predict(np.array([[test_case]]))\n",
    "\n",
    "    return predicted_duration\n",
    "\n",
    "# Read the training data from the file\n",
    "training_data = []\n",
    "with open(\"trainingdata.txt\", \"r\") as file:\n",
    "    for line in file:\n",
    "        charging_time, battery_duration = map(float, line.strip().split(\",\"))\n",
    "        training_data.append((charging_time, battery_duration))\n",
    "\n",
    "# Read the test case input\n",
    "test_case = float(input())\n",
    "\n",
    "# Predict the battery duration for the test case\n",
    "predicted_duration = predict_battery_duration(training_data, test_case)\n",
    "\n",
    "# Print the predicted battery duration\n",
    "print(\"{:.2f}\".format(float(predicted_duration)))\n",
    "\n"
   ]
  },
  {
   "cell_type": "code",
   "execution_count": null,
   "id": "4e9c2fc2",
   "metadata": {},
   "outputs": [],
   "source": [
    "import numpy as np\n",
    "from sklearn.linear_model import LinearRegression\n",
    "\n",
    "train_df = []\n",
    "with open(\"trainingdata.txt\", 'r') as file:\n",
    "    for line in file:\n",
    "        x, y = map(float, line.strip().split(\",\"))\n",
    "        train_df.append((x, y))\n",
    "\n",
    "X_train = np.array([x for x, _ in train_df]).reshape(-1,1)\n",
    "y_train = np.array([y for _, y in train_df])\n",
    "\n",
    "test_df = float(input())\n",
    "\n",
    "model = LinearRegression()\n",
    "model.fit(X_train, y_train)\n",
    "\n",
    "y_pred = model.predict(np.array([[test_df]]))\n",
    "\n",
    "for val in y_pred:\n",
    "    print(\"{:.2f}\".format(val))\n"
   ]
  },
  {
   "cell_type": "code",
   "execution_count": null,
   "id": "c75f919e",
   "metadata": {},
   "outputs": [],
   "source": [
    "time_charging_input = float(input())\n",
    "if time_charging_input < 4.0:\n",
    "    n=time_charging_input*2\n",
    "    print(n)\n",
    "else:\n",
    "    n=8\n",
    "    print(n)"
   ]
  }
 ],
 "metadata": {
  "kernelspec": {
   "display_name": "Python 3 (ipykernel)",
   "language": "python",
   "name": "python3"
  },
  "language_info": {
   "codemirror_mode": {
    "name": "ipython",
    "version": 3
   },
   "file_extension": ".py",
   "mimetype": "text/x-python",
   "name": "python",
   "nbconvert_exporter": "python",
   "pygments_lexer": "ipython3",
   "version": "3.9.13"
  }
 },
 "nbformat": 4,
 "nbformat_minor": 5
}
